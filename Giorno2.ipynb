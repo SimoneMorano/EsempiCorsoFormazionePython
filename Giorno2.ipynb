{
 "cells": [
  {
   "cell_type": "markdown",
   "metadata": {},
   "source": [
    "### Assegnazione Variabili\n",
    "\n",
    "REGOLE SINTATTICHE (non obbligatorie ma fortemente consigliate)\n",
    "\n",
    "- Variabili in minuscolo\n",
    "- Costanti in maiuscolo\n",
    "- Nomi in inglese\n",
    "- Snake case per variabili con più nomi (first_variable)\n"
   ]
  },
  {
   "cell_type": "code",
   "execution_count": 1,
   "metadata": {},
   "outputs": [],
   "source": [
    "PI = 3.14 # costante\n",
    "age = 30 # variabile\n"
   ]
  },
  {
   "cell_type": "markdown",
   "metadata": {},
   "source": [
    "### Tipi di Dati"
   ]
  },
  {
   "cell_type": "code",
   "execution_count": 5,
   "metadata": {},
   "outputs": [
    {
     "name": "stdout",
     "output_type": "stream",
     "text": [
      "intero = 5 e il suo tipo è <class 'int'>\n",
      "reale = 3.14 e il suo tipo è <class 'float'>\n",
      "stringa = Simone e il suo tipo è <class 'str'>\n",
      "booleano = True e il suo tipo è <class 'bool'>\n"
     ]
    }
   ],
   "source": [
    "intero = 5\n",
    "reale = 3.14\n",
    "stringa = 'Simone'\n",
    "booleano = True\n",
    "\n",
    "print(f\"intero = {intero} e il suo tipo è {type(intero)}\") \n",
    "print(f\"reale = {reale} e il suo tipo è {type(reale)}\") \n",
    "print(f\"stringa = {stringa} e il suo tipo è {type(stringa)}\") \n",
    "print(f\"booleano = {booleano} e il suo tipo è {type(booleano)}\") "
   ]
  },
  {
   "cell_type": "markdown",
   "metadata": {},
   "source": [
    "### Operazioni Matematiche"
   ]
  },
  {
   "cell_type": "code",
   "execution_count": 7,
   "metadata": {},
   "outputs": [
    {
     "name": "stdout",
     "output_type": "stream",
     "text": [
      "somma = 7\n",
      "sottrazione = 3\n",
      "moltiplicazione = 10\n",
      "potenza = 25\n",
      "divisione = 2.5\n",
      "modulo = 1\n"
     ]
    }
   ],
   "source": [
    "a = 5\n",
    "b = 2\n",
    "\n",
    "somma = a + b\n",
    "sottrazione = a - b\n",
    "moltiplicazione = a * b\n",
    "potenza = a ** b\n",
    "divisione = a / b\n",
    "modulo = a % b\n",
    "\n",
    "print(f\"somma = {somma}\") \n",
    "print(f\"sottrazione = {sottrazione}\") \n",
    "print(f\"moltiplicazione = {moltiplicazione}\") \n",
    "print(f\"potenza = {potenza}\") \n",
    "print(f\"divisione = {divisione}\") \n",
    "print(f\"modulo = {modulo}\") "
   ]
  },
  {
   "cell_type": "markdown",
   "metadata": {},
   "source": [
    "### Istruzioni condizionali"
   ]
  },
  {
   "cell_type": "code",
   "execution_count": 11,
   "metadata": {},
   "outputs": [
    {
     "name": "stdout",
     "output_type": "stream",
     "text": [
      "uguale = False\n",
      "diverso = True\n",
      "maggiore = True\n",
      "maggiore_uguale = True\n",
      "minore = False\n",
      "minore_uguale = False\n"
     ]
    }
   ],
   "source": [
    "a = 5\n",
    "b = 2\n",
    "\n",
    "uguale = a == b\n",
    "diverso = a != b\n",
    "maggiore = a > b\n",
    "maggiore_uguale = a >= b\n",
    "minore = a < b\n",
    "minore_uguale = a <= b\n",
    "\n",
    "print(f\"uguale = {uguale}\")\n",
    "print(f\"diverso = {diverso}\")\n",
    "print(f\"maggiore = {maggiore}\")\n",
    "print(f\"maggiore_uguale = {maggiore_uguale}\")\n",
    "print(f\"minore = {minore}\")\n",
    "print(f\"minore_uguale = {minore_uguale}\")"
   ]
  },
  {
   "cell_type": "markdown",
   "metadata": {},
   "source": [
    "### Operatori Logici"
   ]
  },
  {
   "cell_type": "code",
   "execution_count": 12,
   "metadata": {},
   "outputs": [
    {
     "name": "stdout",
     "output_type": "stream",
     "text": [
      "operatore_and = False\n",
      "operatore_or = True\n",
      "operatore_not = False\n"
     ]
    }
   ],
   "source": [
    "a = True\n",
    "b = False\n",
    "\n",
    "operatore_and = a and b\n",
    "operatore_or = a or b\n",
    "operatore_not = not a\n",
    "\n",
    "print(f\"operatore_and = {operatore_and}\")\n",
    "print(f\"operatore_or = {operatore_or}\")\n",
    "print(f\"operatore_not = {operatore_not}\")"
   ]
  },
  {
   "cell_type": "markdown",
   "metadata": {},
   "source": [
    "### Cicli\n",
    "\n",
    "- If\n",
    "- While\n",
    "- For"
   ]
  },
  {
   "cell_type": "code",
   "execution_count": 14,
   "metadata": {},
   "outputs": [
    {
     "name": "stdout",
     "output_type": "stream",
     "text": [
      "5/2=2.5\n"
     ]
    }
   ],
   "source": [
    "# IF\n",
    "\n",
    "a = 5\n",
    "b = 2\n",
    "\n",
    "if b!=0:\n",
    "\tc = a/b\n",
    "\tprint(f\"{a}/{b}={c}\")\n",
    "\n",
    "elif b==1:\n",
    "\tc = a\n",
    "\tprint(f\"{a}/{b}={c}\")\n",
    "\n",
    "else:\n",
    "\tprint(\"Non puoi dividere per zero\")\n"
   ]
  },
  {
   "cell_type": "code",
   "execution_count": 17,
   "metadata": {},
   "outputs": [
    {
     "name": "stdout",
     "output_type": "stream",
     "text": [
      "la media è 11.4\n"
     ]
    }
   ],
   "source": [
    "# While\n",
    "\n",
    "vals = [12, 9, 4, 21, 11]\n",
    "vals_sum = 0\n",
    "i = 0\n",
    "while i<len(vals):\n",
    "    vals_sum = vals_sum+vals[i]\n",
    "    i+=1\n",
    "vals_mean = vals_sum/len(vals)\n",
    "\n",
    "print(f\"la media è {vals_mean}\")"
   ]
  },
  {
   "cell_type": "code",
   "execution_count": 19,
   "metadata": {},
   "outputs": [
    {
     "name": "stdout",
     "output_type": "stream",
     "text": [
      "la media è 11.4\n"
     ]
    }
   ],
   "source": [
    "# For\n",
    "\n",
    "vals = [12, 9, 4, 21, 11]\n",
    "vals_sum = 0\n",
    "\n",
    "for val in vals:\n",
    "    vals_sum = vals_sum+val\n",
    "\n",
    "vals_mean = vals_sum/len(vals)\n",
    "\n",
    "print(f\"la media è {vals_mean}\")"
   ]
  },
  {
   "cell_type": "markdown",
   "metadata": {},
   "source": [
    "### Collezioni\n",
    "\n",
    "- Liste\n",
    "- Tuple\n",
    "- Dizionari"
   ]
  },
  {
   "cell_type": "code",
   "execution_count": 21,
   "metadata": {},
   "outputs": [
    {
     "name": "stdout",
     "output_type": "stream",
     "text": [
      "180\n",
      "181\n",
      "182\n"
     ]
    }
   ],
   "source": [
    "heights_list = [180, 168, 177, 171, 165]\n",
    "\n",
    "heights_tuple = (181, 168, 177, 171, 165)\n",
    "\n",
    "heights_dict = {\"luca\":182, \"francesco\":168, \"simone\":177}\n",
    "\n",
    "print(heights_list[0])\n",
    "print(heights_tuple[0])\n",
    "print(heights_dict[\"luca\"])\n"
   ]
  },
  {
   "cell_type": "code",
   "execution_count": 24,
   "metadata": {},
   "outputs": [
    {
     "name": "stdout",
     "output_type": "stream",
     "text": [
      "[[180, 181], [168, 169], [177, 178], [171, 172], [165, 166], [180, 181]]\n"
     ]
    }
   ],
   "source": [
    "heights_list = [[180, 181], [168, 169], [177, 178], [171,172], [165, 166]]\n",
    "\n",
    "print(heights_list[0][1])"
   ]
  },
  {
   "cell_type": "code",
   "execution_count": null,
   "metadata": {},
   "outputs": [],
   "source": [
    "heights_list = [[180, 181], [168, 169], [177, 178], [171,172], [165, 166]]\n",
    "heights_list.append([180, 181])\n",
    "\n",
    "print(heights_list)"
   ]
  }
 ],
 "metadata": {
  "kernelspec": {
   "display_name": "Python 3",
   "language": "python",
   "name": "python3"
  },
  "language_info": {
   "codemirror_mode": {
    "name": "ipython",
    "version": 3
   },
   "file_extension": ".py",
   "mimetype": "text/x-python",
   "name": "python",
   "nbconvert_exporter": "python",
   "pygments_lexer": "ipython3",
   "version": "3.11.9"
  }
 },
 "nbformat": 4,
 "nbformat_minor": 2
}
